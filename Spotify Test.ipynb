{
 "cells": [
  {
   "cell_type": "code",
   "execution_count": null,
   "metadata": {},
   "outputs": [],
   "source": [
    "!jt -t chesterish"
   ]
  },
  {
   "cell_type": "code",
   "execution_count": null,
   "metadata": {},
   "outputs": [],
   "source": [
    "import sys\n",
    "import spotipy\n",
    "import spotipy.util as util\n",
    "import pandas as pd\n",
    "import numpy as np\n",
    "%matplotlib inline"
   ]
  },
  {
   "cell_type": "code",
   "execution_count": null,
   "metadata": {},
   "outputs": [],
   "source": [
    "scope=\"user-library-read user-top-read user-read-recently-played \" \\\n",
    "        \"playlist-read-private playlist-read-collaborative\"\n",
    "username = '/8g0DFjxfTeCy_C4xyiZ3jg'\n",
    "client_id = \"e1dcf46bf7574a3e9f3b8f7b6a5caa3c\"\n",
    "client_secret = \"878de6cb511d4daa9804bbd6bf6cd064\"\n",
    "ruri = \"http://google.com/\""
   ]
  },
  {
   "cell_type": "code",
   "execution_count": null,
   "metadata": {},
   "outputs": [],
   "source": [
    "token = util.prompt_for_user_token(username, scope, client_id=client_id,client_secret=client_secret,redirect_uri=ruri)"
   ]
  },
  {
   "cell_type": "code",
   "execution_count": null,
   "metadata": {},
   "outputs": [],
   "source": [
    "sp = spotipy.Spotify(auth=token)"
   ]
  },
  {
   "cell_type": "code",
   "execution_count": null,
   "metadata": {},
   "outputs": [],
   "source": [
    "results = sp.current_user_saved_tracks(limit=50)"
   ]
  },
  {
   "cell_type": "code",
   "execution_count": null,
   "metadata": {},
   "outputs": [],
   "source": [
    "artists = []\n",
    "songs = []\n",
    "ids = []\n",
    "tracks = []"
   ]
  },
  {
   "cell_type": "code",
   "execution_count": null,
   "metadata": {},
   "outputs": [],
   "source": [
    "for item in results['items']:\n",
    "    track = item['track']\n",
    "    tracks.append(track)\n",
    "    artists.append(track['artists'][0]['name'])\n",
    "    songs.append(track['name'])\n",
    "    ids.append(track['id'])\n",
    "    \n",
    "df = pd.DataFrame(sp.audio_features(ids))"
   ]
  },
  {
   "cell_type": "code",
   "execution_count": null,
   "metadata": {},
   "outputs": [],
   "source": [
    "offset = 50\n",
    "results = sp.current_user_saved_tracks(limit=50, offset=50)\n",
    "\n",
    "while(len(results['items'])):\n",
    "    ids = []\n",
    "    for item in results['items']:\n",
    "        track = item['track']\n",
    "        tracks.append(track)\n",
    "        ids.append(track['id'])\n",
    "        songs.append(track['name'])\n",
    "        artists.append(track['artists'][0]['name'])\n",
    "    df = df.append(pd.DataFrame(sp.audio_features(ids)), ignore_index = True)\n",
    "    offset = offset + 50\n",
    "    results = sp.current_user_saved_tracks(limit=50,offset=offset)"
   ]
  },
  {
   "cell_type": "code",
   "execution_count": null,
   "metadata": {},
   "outputs": [],
   "source": [
    "library = df[['acousticness', 'danceability', 'energy','instrumentalness','key','liveness','loudness','mode','speechiness','tempo','valence']].copy()\n",
    "library['song_title'] = songs\n",
    "library['artist'] = artists"
   ]
  },
  {
   "cell_type": "code",
   "execution_count": null,
   "metadata": {},
   "outputs": [],
   "source": [
    "library[library.song_title == \"Mr. Blue Sky\"].iloc[0]"
   ]
  },
  {
   "cell_type": "code",
   "execution_count": null,
   "metadata": {},
   "outputs": [],
   "source": [
    "def feelgood(track):\n",
    "    tempo = track['tempo']\n",
    "    key = track['key']\n",
    "    nChords = 0\n",
    "    return 60 + ((0.00165 * tempo – 120) ** 2) + (4.376 * key) + 0.78 * nChords – (key * nChords)"
   ]
  }
 ],
 "metadata": {
  "kernelspec": {
   "display_name": "Python 3",
   "language": "python",
   "name": "python3"
  },
  "language_info": {
   "codemirror_mode": {
    "name": "ipython",
    "version": 3
   },
   "file_extension": ".py",
   "mimetype": "text/x-python",
   "name": "python",
   "nbconvert_exporter": "python",
   "pygments_lexer": "ipython3",
   "version": "3.7.4"
  }
 },
 "nbformat": 4,
 "nbformat_minor": 2
}
