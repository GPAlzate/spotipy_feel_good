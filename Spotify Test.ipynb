{
 "cells": [
  {
   "cell_type": "code",
   "execution_count": null,
   "metadata": {},
   "outputs": [],
   "source": [
    "!jt -t chesterish"
   ]
  },
  {
   "cell_type": "code",
   "execution_count": 94,
   "metadata": {},
   "outputs": [],
   "source": [
    "import sys\n",
    "import spotipy\n",
    "import spotipy.util as util\n",
    "import pandas as pd\n",
    "import numpy as np\n",
    "%matplotlib inline"
   ]
  },
  {
   "cell_type": "code",
   "execution_count": 95,
   "metadata": {},
   "outputs": [],
   "source": [
    "scope=\"user-library-read user-top-read user-read-recently-played \" \\\n",
    "        \"playlist-read-private playlist-read-collaborative\"\n",
    "username = '/8g0DFjxfTeCy_C4xyiZ3jg'"
   ]
  },
  {
   "cell_type": "code",
   "execution_count": 96,
   "metadata": {},
   "outputs": [],
   "source": [
    "client_id = \"e1dcf46bf7574a3e9f3b8f7b6a5caa3c\""
   ]
  },
  {
   "cell_type": "code",
   "execution_count": 97,
   "metadata": {},
   "outputs": [],
   "source": [
    "client_secret = \"878de6cb511d4daa9804bbd6bf6cd064\""
   ]
  },
  {
   "cell_type": "code",
   "execution_count": 98,
   "metadata": {},
   "outputs": [],
   "source": [
    "ruri = \"http://google.com/\""
   ]
  },
  {
   "cell_type": "code",
   "execution_count": 99,
   "metadata": {},
   "outputs": [
    {
     "name": "stdout",
     "output_type": "stream",
     "text": [
      "\n",
      "\n",
      "            User authentication requires interaction with your\n",
      "            web browser. Once you enter your credentials and\n",
      "            give authorization, you will be redirected to\n",
      "            a url.  Paste that url you were directed to to\n",
      "            complete the authorization.\n",
      "\n",
      "        \n",
      "Opened https://accounts.spotify.com/authorize?client_id=e1dcf46bf7574a3e9f3b8f7b6a5caa3c&response_type=code&redirect_uri=http%3A%2F%2Fgoogle.com%2F&scope=playlist-read-collaborative+playlist-read-private+user-library-read+user-read-recently-played+user-top-read in your browser\n",
      "\n",
      "\n",
      "Enter the URL you were redirected to: https://www.google.com/?code=AQBAo9GxgqwhFw_CHVfgkzdCTD09yVdVfIw1UJY0wQ-GASGOOH9-Rj0GL8dO1lPbvU2I7ELA1kmobyWDx3gOtiglY9kVeWObuF3ER8kdrR_nxh23DEiqi7ZGwF5_yXCSNTAPmLN7eUua1z0AoPg2Vy9na5knbmoPPd8lanWRI_aZrxs6zMVjFyvo2cDaRNVrxOXHmkbayfRKPlPhS9pUcwsEHRKV4m-Do7ojLk7gMGF-AszcAR2CwA5rUgi04poR6re5_9N__Arzo3_eYmuyM1QJvIkg1kO2OGZGZ4sRPRiUuKT7Q4qLVEpnB9_y-BivZKdQ2RZ0uK8NIeQ\n",
      "\n",
      "\n"
     ]
    },
    {
     "name": "stderr",
     "output_type": "stream",
     "text": [
      "warning:couldn't write token cache to .cache-/8g0DFjxfTeCy_C4xyiZ3jg\n"
     ]
    }
   ],
   "source": [
    "token = util.prompt_for_user_token(username, scope, client_id=client_id,client_secret=client_secret,redirect_uri=ruri)"
   ]
  },
  {
   "cell_type": "code",
   "execution_count": 100,
   "metadata": {},
   "outputs": [
    {
     "data": {
      "text/plain": [
       "'BQCFsH-JSsl-hzrtrUP4CLua3Y_LY1ZzlZLHZSeE6b7pQN96ZOqJMrm2-PqLnoOGCOB8htwO_wCUqLroF2HwqQl49Jt2kkf7WssFTvsfJb9BX6N9cgMAcW1F1tjfecOtJQRZiOcoB8jrPJg-U2j_4zb_U8-EfcP5wM3FqHVCL-uWjp_AOg'"
      ]
     },
     "execution_count": 100,
     "metadata": {},
     "output_type": "execute_result"
    }
   ],
   "source": [
    "token"
   ]
  },
  {
   "cell_type": "code",
   "execution_count": 101,
   "metadata": {
    "collapsed": true
   },
   "outputs": [],
   "source": [
    "sp = spotipy.Spotify(auth=token)"
   ]
  },
  {
   "cell_type": "code",
   "execution_count": 125,
   "metadata": {},
   "outputs": [],
   "source": [
    "results = sp.current_user_saved_tracks(limit=50)"
   ]
  },
  {
   "cell_type": "code",
   "execution_count": 126,
   "metadata": {},
   "outputs": [],
   "source": [
    "artists = []\n",
    "songs = []\n",
    "ids = []\n",
    "tracks = []"
   ]
  },
  {
   "cell_type": "code",
   "execution_count": 135,
   "metadata": {},
   "outputs": [],
   "source": [
    "for item in results['items']:\n",
    "    track = item['track']\n",
    "    tracks.append(track)\n",
    "    artists.append(track['artists'][0]['name'])\n",
    "    songs.append(track['name'])\n",
    "    ids.append(track['id'])\n",
    "    \n",
    "df = pd.DataFrame(sp.audio_features(ids))"
   ]
  },
  {
   "cell_type": "code",
   "execution_count": 136,
   "metadata": {},
   "outputs": [],
   "source": [
    "offset = 50\n",
    "results = sp.current_user_saved_tracks(limit=50, offset=50)\n",
    "\n",
    "while(len(results['items'])):\n",
    "    ids = []\n",
    "    for item in results['items']:\n",
    "        track = item['track']\n",
    "        tracks.append(track)\n",
    "        ids.append(track['id'])\n",
    "        songs.append(track['name'])\n",
    "        artists.append(track['artists'][0]['name'])\n",
    "    df = df.append(pd.DataFrame(sp.audio_features(ids)), ignore_index = True)\n",
    "    offset = offset + 50\n",
    "    results = sp.current_user_saved_tracks(limit=50,offset=offset)"
   ]
  },
  {
   "cell_type": "code",
   "execution_count": 146,
   "metadata": {},
   "outputs": [
    {
     "name": "stdout",
     "output_type": "stream",
     "text": [
      "[]\n"
     ]
    }
   ],
   "source": [
    "print(results['items'])"
   ]
  },
  {
   "cell_type": "code",
   "execution_count": 138,
   "metadata": {},
   "outputs": [],
   "source": [
    "library = df[['acousticness', 'danceability', 'energy','instrumentalness','key','liveness','loudness','mode','speechiness','tempo','valence']].copy()\n",
    "library['song_title'] = songs\n",
    "library['artist'] = artists"
   ]
  },
  {
   "cell_type": "code",
   "execution_count": 165,
   "metadata": {},
   "outputs": [
    {
     "data": {
      "text/plain": [
       "acousticness                           0.652\n",
       "danceability                           0.388\n",
       "energy                                 0.338\n",
       "instrumentalness                    3.72e-06\n",
       "key                                       10\n",
       "liveness                               0.248\n",
       "loudness                             -10.054\n",
       "mode                                       1\n",
       "speechiness                           0.0328\n",
       "tempo                                177.784\n",
       "valence                                0.477\n",
       "song_title                      Mr. Blue Sky\n",
       "artist              Electric Light Orchestra\n",
       "Name: 311, dtype: object"
      ]
     },
     "execution_count": 165,
     "metadata": {},
     "output_type": "execute_result"
    }
   ],
   "source": [
    "library[library.song_title == \"Mr. Blue Sky\"].iloc[0]"
   ]
  },
  {
   "cell_type": "code",
   "execution_count": null,
   "metadata": {},
   "outputs": [],
   "source": [
    "def feelgood(track):\n",
    "    tempo = track['tempo']\n",
    "    key = track['key']\n",
    "    nChords = \n",
    "    return 60 + ((0.00165 * tempo – 120) ** 2) + (4.376 * key) + 0.78 * nChords – (key * nChords)"
   ]
  }
 ],
 "metadata": {
  "kernelspec": {
   "display_name": "Python 3",
   "language": "python",
   "name": "python3"
  },
  "language_info": {
   "codemirror_mode": {
    "name": "ipython",
    "version": 3
   },
   "file_extension": ".py",
   "mimetype": "text/x-python",
   "name": "python",
   "nbconvert_exporter": "python",
   "pygments_lexer": "ipython3",
   "version": "3.7.4"
  }
 },
 "nbformat": 4,
 "nbformat_minor": 2
}
